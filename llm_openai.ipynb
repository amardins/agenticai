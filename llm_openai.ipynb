{
 "cells": [
  {
   "cell_type": "code",
   "execution_count": 3,
   "id": "5d8abf22",
   "metadata": {},
   "outputs": [
    {
     "name": "stdout",
     "output_type": "stream",
     "text": [
      "{\"providers\":[{\"provider_name\":\"Biznet\",\"package\":\"Biznet Home Internet\",\"speed\":\"Up to 75 Mbps\",\"price\":\"IDR 325,000/month\"},{\"provider_name\":\"IndiHome\",\"package\":\"IndiHome Fiber\",\"speed\":\"Up to 100 Mbps\",\"price\":\"IDR 280,000/month\"},{\"provider_name\":\"First Media\",\"package\":\"FastNet\",\"speed\":\"Up to 50 Mbps\",\"price\":\"IDR 299,000/month\"},{\"provider_name\":\"MNC Play\",\"package\":\"Premium Package\",\"speed\":\"Up to 100 Mbps\",\"price\":\"IDR 369,000/month\"},{\"provider_name\":\"MyRepublic\",\"package\":\"Value\",\"speed\":\"Up to 30 Mbps\",\"price\":\"IDR 299,000/month\"}]}\n"
     ]
    }
   ],
   "source": [
    "import os\n",
    "openai_api_key = os.getenv('OPENAI_API_KEY')\n",
    "import openai\n",
    "from openai import OpenAI\n",
    "\n",
    "openai.api_key = openai_api_key\n",
    "\n",
    "\n",
    "client = OpenAI(api_key=openai.api_key)  # or set OPENAI_API_KEY in env\n",
    "\n",
    "from openai import OpenAI\n",
    "\n",
    "client = OpenAI(api_key=openai.api_key)\n",
    "\n",
    "# Define a function schema to extract structured provider info\n",
    "tools = [\n",
    "    {\n",
    "        \"type\": \"function\",\n",
    "        \"function\": {\n",
    "            \"name\": \"extract_internet_providers\",\n",
    "            \"description\": \"Extract structured list of internet providers in a specific city\",\n",
    "            \"parameters\": {\n",
    "                \"type\": \"object\",\n",
    "                \"properties\": {\n",
    "                    \"providers\": {\n",
    "                        \"type\": \"array\",\n",
    "                        \"items\": {\n",
    "                            \"type\": \"object\",\n",
    "                            \"properties\": {\n",
    "                                \"provider_name\": {\"type\": \"string\"},\n",
    "                                \"package\": {\"type\": \"string\"},\n",
    "                                \"speed\": {\"type\": \"string\"},\n",
    "                                \"price\": {\"type\": \"string\"}\n",
    "                            },\n",
    "                            \"required\": [\"provider_name\", \"package\", \"speed\", \"price\"]\n",
    "                        }\n",
    "                    }\n",
    "                },\n",
    "                \"required\": [\"providers\"]\n",
    "            }\n",
    "        }\n",
    "    }\n",
    "]\n",
    "\n",
    "response = client.chat.completions.create(\n",
    "    model=\"gpt-4o\",\n",
    "    messages=[\n",
    "        {\n",
    "            \"role\": \"user\",\n",
    "            \"content\": \"List internet providers in Madiun with package, speed, and price.\"\n",
    "        }\n",
    "    ],\n",
    "    tools=tools,\n",
    "    tool_choice=\"auto\"\n",
    ")\n",
    "\n",
    "# Print the structured result\n",
    "tool_call = response.choices[0].message.tool_calls[0]\n",
    "args = tool_call.function.arguments\n",
    "print(args)\n"
   ]
  },
  {
   "cell_type": "code",
   "execution_count": 4,
   "id": "29d23ffb",
   "metadata": {},
   "outputs": [
    {
     "name": "stdout",
     "output_type": "stream",
     "text": [
      "  provider_name               package           speed              price\n",
      "0        Biznet  Biznet Home Internet   Up to 75 Mbps  IDR 325,000/month\n",
      "1      IndiHome        IndiHome Fiber  Up to 100 Mbps  IDR 280,000/month\n",
      "2   First Media               FastNet   Up to 50 Mbps  IDR 299,000/month\n",
      "3      MNC Play       Premium Package  Up to 100 Mbps  IDR 369,000/month\n",
      "4    MyRepublic                 Value   Up to 30 Mbps  IDR 299,000/month\n"
     ]
    }
   ],
   "source": [
    "import pandas as pd\n",
    "import json\n",
    "\n",
    "data = json.loads(args)\n",
    "df = pd.DataFrame(data[\"providers\"])\n",
    "print(df)"
   ]
  },
  {
   "cell_type": "code",
   "execution_count": null,
   "id": "b5f23ef6",
   "metadata": {},
   "outputs": [],
   "source": []
  }
 ],
 "metadata": {
  "kernelspec": {
   "display_name": "tsel",
   "language": "python",
   "name": "python3"
  },
  "language_info": {
   "codemirror_mode": {
    "name": "ipython",
    "version": 3
   },
   "file_extension": ".py",
   "mimetype": "text/x-python",
   "name": "python",
   "nbconvert_exporter": "python",
   "pygments_lexer": "ipython3",
   "version": "3.12.5"
  }
 },
 "nbformat": 4,
 "nbformat_minor": 5
}
