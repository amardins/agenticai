{
 "cells": [
  {
   "cell_type": "code",
   "execution_count": null,
   "id": "a93eec99",
   "metadata": {},
   "outputs": [],
   "source": []
  },
  {
   "cell_type": "markdown",
   "id": "9c6f10ba",
   "metadata": {},
   "source": [
    "### Hand-Off and Delegation Pattern\n",
    "- we can implement the Hand-Off and Delegation Pattern by creating multiple sub-agents that are responsible for different tasks or domains. \n",
    "- In the example below, the agent can choose to delegate to one of the\n",
    "two sub-agents, depending on the user's preferred language. \n",
    "- A welldesigned hand-off and delegation pattern allow for separation of concerns and modularity, while keeping each agent loosely coupled to the main agent\n",
    "- An agent handing off a task to another will fully transfer the conversation state to the delegated agent, and the execution flow immediately switches to the delegated agent.\n",
    "\n"
   ]
  },
  {
   "cell_type": "code",
   "execution_count": 1,
   "id": "c76c7ebe",
   "metadata": {},
   "outputs": [],
   "source": [
    "from agents import Agent, Runner"
   ]
  },
  {
   "cell_type": "code",
   "execution_count": 2,
   "id": "ac84923f",
   "metadata": {},
   "outputs": [],
   "source": [
    "german_agent = Agent(name=\"German Assistant\",instructions=\"Always respond in German. Be polite and concise.\",)"
   ]
  },
  {
   "cell_type": "code",
   "execution_count": 4,
   "id": "1220cb05",
   "metadata": {},
   "outputs": [],
   "source": [
    "english_agent = Agent(name=\"English Assistant\", instructions=\"Always respond in English.\")"
   ]
  },
  {
   "cell_type": "code",
   "execution_count": 7,
   "id": "0873efdf",
   "metadata": {},
   "outputs": [],
   "source": [
    "customer_service_manager = Agent(\n",
    "    name=\"Customer Service Manager\",\n",
    "    instructions=\"Handoff to the appropriate agent based on the language of the request\",\n",
    "    handoffs=[german_agent, english_agent]\n",
    ")"
   ]
  },
  {
   "cell_type": "code",
   "execution_count": 9,
   "id": "8d60364b",
   "metadata": {},
   "outputs": [
    {
     "name": "stdout",
     "output_type": "stream",
     "text": [
      "Natürlich, ich verbinde Sie sofort mit dem Manager. Könnten Sie mir bitte noch kurz sagen, worum es geht, damit ich ihn optimal informieren kann?\n"
     ]
    }
   ],
   "source": [
    "query = \"Hallo, ich habe ein Problem und muss mit dem Manager sprechen\"\n",
    "result = await Runner.run(customer_service_manager,query)\n",
    "print(result.final_output)"
   ]
  },
  {
   "cell_type": "code",
   "execution_count": null,
   "id": "3bb4d53e",
   "metadata": {},
   "outputs": [],
   "source": []
  }
 ],
 "metadata": {
  "kernelspec": {
   "display_name": "tsel",
   "language": "python",
   "name": "python3"
  },
  "language_info": {
   "codemirror_mode": {
    "name": "ipython",
    "version": 3
   },
   "file_extension": ".py",
   "mimetype": "text/x-python",
   "name": "python",
   "nbconvert_exporter": "python",
   "pygments_lexer": "ipython3",
   "version": "3.12.5"
  }
 },
 "nbformat": 4,
 "nbformat_minor": 5
}
