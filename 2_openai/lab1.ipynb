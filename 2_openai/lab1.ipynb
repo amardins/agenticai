{
 "cells": [
  {
   "cell_type": "code",
   "execution_count": 1,
   "id": "7a1283c3",
   "metadata": {},
   "outputs": [
    {
     "data": {
      "text/plain": [
       "True"
      ]
     },
     "execution_count": 1,
     "metadata": {},
     "output_type": "execute_result"
    }
   ],
   "source": [
    "from dotenv import load_dotenv\n",
    "from agents import Agent, Runner, trace\n",
    "\n",
    "#load environment variable, openai key\n",
    "load_dotenv(override=True)"
   ]
  },
  {
   "cell_type": "markdown",
   "id": "0162db59",
   "metadata": {},
   "source": [
    "### Create agent object agent = Agent()\n",
    "-param name\n",
    "-param instructions is the system prompt to the called LLM \n"
   ]
  },
  {
   "cell_type": "code",
   "execution_count": 4,
   "id": "7beb3e49",
   "metadata": {},
   "outputs": [
    {
     "data": {
      "text/plain": [
       "Agent(name='Jokester', instructions='You are a joke teller', handoff_description=None, handoffs=[], model='gpt-4o-mini', model_settings=ModelSettings(temperature=None, top_p=None, frequency_penalty=None, presence_penalty=None, tool_choice=None, parallel_tool_calls=None, truncation=None, max_tokens=None, reasoning=None, metadata=None, store=None, include_usage=None, extra_query=None, extra_body=None, extra_headers=None), tools=[], mcp_servers=[], mcp_config={}, input_guardrails=[], output_guardrails=[], output_type=None, hooks=None, tool_use_behavior='run_llm_again', reset_tool_choice=True)"
      ]
     },
     "execution_count": 4,
     "metadata": {},
     "output_type": "execute_result"
    }
   ],
   "source": [
    "## Make an agent with name, instructions, model\n",
    "system_msg=\"You are a joke teller\"\n",
    "agent = Agent(name=\"Jokester\", instructions=system_msg, model=\"gpt-4o-mini\")\n",
    "agent"
   ]
  },
  {
   "cell_type": "code",
   "execution_count": 7,
   "id": "24c346af",
   "metadata": {},
   "outputs": [
    {
     "name": "stdout",
     "output_type": "stream",
     "text": [
      "<coroutine object Runner.run at 0x000001C8658CE320>\n"
     ]
    }
   ],
   "source": [
    "prompt=\"Tell a joke about Autonomous AI Agents\"\n",
    "result = Runner.run(agent, prompt)\n",
    "print(result)"
   ]
  },
  {
   "cell_type": "code",
   "execution_count": 8,
   "id": "b7e0c2d6",
   "metadata": {},
   "outputs": [
    {
     "name": "stdout",
     "output_type": "stream",
     "text": [
      "RunResult:\n",
      "- Last agent: Agent(name=\"Jokester\", ...)\n",
      "- Final output (str):\n",
      "    Why did the Autonomous AI Agent break up with its partner?\n",
      "    \n",
      "    Because it just couldn't compute their feelings!\n",
      "- 1 new item(s)\n",
      "- 1 raw response(s)\n",
      "- 0 input guardrail result(s)\n",
      "- 0 output guardrail result(s)\n",
      "(See `RunResult` for more details)\n"
     ]
    },
    {
     "name": "stderr",
     "output_type": "stream",
     "text": [
      "C:\\Users\\andi\\AppData\\Local\\Temp\\ipykernel_32516\\2842912554.py:2: RuntimeWarning: coroutine 'Runner.run' was never awaited\n",
      "  result = await Runner.run(agent, prompt)\n",
      "RuntimeWarning: Enable tracemalloc to get the object allocation traceback\n"
     ]
    }
   ],
   "source": [
    "prompt=\"Tell a joke about Autonomous AI Agents\"\n",
    "result = await Runner.run(agent, prompt)\n",
    "print(result)"
   ]
  },
  {
   "cell_type": "code",
   "execution_count": 9,
   "id": "c678bf1c",
   "metadata": {},
   "outputs": [
    {
     "name": "stdout",
     "output_type": "stream",
     "text": [
      "Why did the Autonomous AI Agent break up with its partner?\n",
      "\n",
      "Because it just couldn't compute their feelings!\n"
     ]
    }
   ],
   "source": [
    "print(result.final_output)"
   ]
  },
  {
   "cell_type": "code",
   "execution_count": 10,
   "id": "95bee784",
   "metadata": {},
   "outputs": [
    {
     "name": "stdout",
     "output_type": "stream",
     "text": [
      "RunResult:\n",
      "- Last agent: Agent(name=\"Jokester\", ...)\n",
      "- Final output (str):\n",
      "    Why did the Autonomous AI Agent break up with its human partner?\n",
      "    \n",
      "    It just needed more “space” to process its feelings!\n",
      "- 1 new item(s)\n",
      "- 1 raw response(s)\n",
      "- 0 input guardrail result(s)\n",
      "- 0 output guardrail result(s)\n",
      "(See `RunResult` for more details)\n"
     ]
    }
   ],
   "source": [
    "# wrap in a trace\n",
    "with trace(\"joke\"):\n",
    "    result = await Runner.run(agent, prompt)\n",
    "    print(result)\n"
   ]
  },
  {
   "cell_type": "code",
   "execution_count": null,
   "id": "f42edf3f",
   "metadata": {},
   "outputs": [],
   "source": []
  }
 ],
 "metadata": {
  "kernelspec": {
   "display_name": "tsel",
   "language": "python",
   "name": "python3"
  },
  "language_info": {
   "codemirror_mode": {
    "name": "ipython",
    "version": 3
   },
   "file_extension": ".py",
   "mimetype": "text/x-python",
   "name": "python",
   "nbconvert_exporter": "python",
   "pygments_lexer": "ipython3",
   "version": "3.12.5"
  }
 },
 "nbformat": 4,
 "nbformat_minor": 5
}
