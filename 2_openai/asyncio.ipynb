{
 "cells": [
  {
   "cell_type": "code",
   "execution_count": 1,
   "id": "03e5b5f9",
   "metadata": {},
   "outputs": [],
   "source": [
    "import asyncio"
   ]
  },
  {
   "cell_type": "markdown",
   "id": "237ce0bc",
   "metadata": {},
   "source": [
    "### Run just one task - no need to schedule"
   ]
  },
  {
   "cell_type": "code",
   "execution_count": 31,
   "id": "001a6027",
   "metadata": {},
   "outputs": [
    {
     "name": "stdout",
     "output_type": "stream",
     "text": [
      "Hello ...\n",
      "... World!\n"
     ]
    }
   ],
   "source": [
    "async def hello():\n",
    "    print(\"Hello ...\")\n",
    "    await asyncio.sleep(1)\n",
    "    print(\"... World!\")\n",
    "\n",
    "#hello()\n",
    "await hello()"
   ]
  },
  {
   "cell_type": "code",
   "execution_count": null,
   "id": "d7feae56",
   "metadata": {},
   "outputs": [],
   "source": []
  },
  {
   "cell_type": "markdown",
   "id": "53c0246d",
   "metadata": {},
   "source": [
    "### Run Multiple tasks "
   ]
  },
  {
   "cell_type": "code",
   "execution_count": 32,
   "id": "7606d7c3",
   "metadata": {},
   "outputs": [
    {
     "name": "stdout",
     "output_type": "stream",
     "text": [
      "start function 1\n",
      "start function 2\n",
      "end function 2\n",
      "end function 1\n"
     ]
    }
   ],
   "source": [
    "async def function1():\n",
    "    print('start function 1')\n",
    "    await asyncio.sleep(4)\n",
    "    print(\"end function 1\")\n",
    "    \n",
    "async def function2():\n",
    "    print('start function 2')\n",
    "    await asyncio.sleep(2)\n",
    "    print(\"end function 2\")\n",
    "    \n",
    "task1 = asyncio.create_task(function1())\n",
    "task2 = asyncio.create_task(function2())\n",
    "\n",
    "await task1\n",
    "await task2"
   ]
  },
  {
   "cell_type": "code",
   "execution_count": null,
   "id": "05ec7239",
   "metadata": {},
   "outputs": [],
   "source": []
  },
  {
   "cell_type": "code",
   "execution_count": null,
   "id": "d0a08242",
   "metadata": {},
   "outputs": [],
   "source": []
  }
 ],
 "metadata": {
  "kernelspec": {
   "display_name": "tsel",
   "language": "python",
   "name": "python3"
  },
  "language_info": {
   "codemirror_mode": {
    "name": "ipython",
    "version": 3
   },
   "file_extension": ".py",
   "mimetype": "text/x-python",
   "name": "python",
   "nbconvert_exporter": "python",
   "pygments_lexer": "ipython3",
   "version": "3.12.5"
  }
 },
 "nbformat": 4,
 "nbformat_minor": 5
}
