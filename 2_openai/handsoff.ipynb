{
 "cells": [
  {
   "cell_type": "code",
   "execution_count": 5,
   "id": "cf77a379",
   "metadata": {},
   "outputs": [],
   "source": [
    "from agents import Agent\n",
    "from agents import Runner"
   ]
  },
  {
   "cell_type": "code",
   "execution_count": 3,
   "id": "bdc40bd8",
   "metadata": {},
   "outputs": [],
   "source": [
    "history_tutor_agent = Agent(\n",
    "    name=\"History Tutor\",\n",
    "    handoff_description=\"Specialist agent for historical questions\",\n",
    "    instructions=\"You provide assistance with historical queries. Explain important events and context clearly.\",\n",
    ")\n",
    "\n",
    "math_tutor_agent = Agent(\n",
    "    name=\"Math Tutor\",\n",
    "    handoff_description=\"Specialist agent for math questions\",\n",
    "    instructions=\"You provide help with math problems. Explain your reasoning at each step and include examples\"\n",
    ")"
   ]
  },
  {
   "cell_type": "code",
   "execution_count": 4,
   "id": "341d9670",
   "metadata": {},
   "outputs": [],
   "source": [
    "triage_agent = Agent(\n",
    "    name=\"Triage Agent\",\n",
    "    instructions=\"You determine which agent to use based on the user's homework question\",\n",
    "    handoffs=[history_tutor_agent, math_tutor_agent]\n",
    ")"
   ]
  },
  {
   "cell_type": "code",
   "execution_count": 8,
   "id": "381bb952",
   "metadata": {},
   "outputs": [
    {
     "name": "stdout",
     "output_type": "stream",
     "text": [
      "The capital of France is Paris. Would you like to know more about its historical significance?\n"
     ]
    }
   ],
   "source": [
    "query =\"What is the capital of France?\"\n",
    "result = await Runner.run(triage_agent, query)\n",
    "print(result.final_output)"
   ]
  },
  {
   "cell_type": "code",
   "execution_count": 9,
   "id": "906089b8",
   "metadata": {},
   "outputs": [
    {
     "name": "stdout",
     "output_type": "stream",
     "text": [
      "To solve the problem \\(2 + 2\\), follow these simple steps:\n",
      "\n",
      "1. **Identify the Numbers**: We have two numbers, 2 and 2.\n",
      "\n",
      "2. **Addition Process**: Addition is the process of combining two or more numbers to find their total. Here, we add the number 2 (the first number) to another 2 (the second number):\n",
      "\n",
      "   \\[\n",
      "   2 + 2 = 4\n",
      "   \\]\n",
      "\n",
      "3. **Interpret the Result**: The sum of adding 2 and 2 together is 4.\n",
      "\n",
      "**Example**: \n",
      "\n",
      "- If you have 2 apples and you receive 2 more apples, you now have a total of 4 apples.\n",
      "\n",
      "So, the solution to \\(2 + 2\\) is \\(4\\).\n"
     ]
    }
   ],
   "source": [
    "query =\"What is 2 + 2\"\n",
    "result = await Runner.run(triage_agent, query)\n",
    "print(result.final_output)"
   ]
  },
  {
   "cell_type": "code",
   "execution_count": null,
   "id": "e0c13bbc",
   "metadata": {},
   "outputs": [],
   "source": []
  },
  {
   "cell_type": "code",
   "execution_count": null,
   "id": "5bb2c3ad",
   "metadata": {},
   "outputs": [],
   "source": []
  }
 ],
 "metadata": {
  "kernelspec": {
   "display_name": "tsel",
   "language": "python",
   "name": "python3"
  },
  "language_info": {
   "codemirror_mode": {
    "name": "ipython",
    "version": 3
   },
   "file_extension": ".py",
   "mimetype": "text/x-python",
   "name": "python",
   "nbconvert_exporter": "python",
   "pygments_lexer": "ipython3",
   "version": "3.12.5"
  }
 },
 "nbformat": 4,
 "nbformat_minor": 5
}
