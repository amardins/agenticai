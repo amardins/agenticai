{
 "cells": [
  {
   "cell_type": "code",
   "execution_count": null,
   "id": "22f8869e",
   "metadata": {},
   "outputs": [],
   "source": []
  },
  {
   "cell_type": "markdown",
   "id": "4ee71a7e",
   "metadata": {},
   "source": [
    "## intro to OpenAI Agents SDK"
   ]
  },
  {
   "cell_type": "code",
   "execution_count": 34,
   "id": "f48ed19b",
   "metadata": {},
   "outputs": [
    {
     "data": {
      "text/plain": [
       "True"
      ]
     },
     "execution_count": 34,
     "metadata": {},
     "output_type": "execute_result"
    }
   ],
   "source": [
    "from agents import Agent, Runner\n",
    "from dotenv import load_dotenv\n",
    "load_dotenv()"
   ]
  },
  {
   "cell_type": "code",
   "execution_count": 44,
   "id": "82a7a6c2",
   "metadata": {},
   "outputs": [
    {
     "name": "stdout",
     "output_type": "stream",
     "text": [
      "Direktur Utama Telkomsel saat ini adalah Hendri Mulya Syam.\n"
     ]
    }
   ],
   "source": [
    "agent = Agent(name=\"Assistant\",model=\"gpt-4o\", instructions=\"Answer as factually as possible\")\n",
    "result = await Runner.run(agent, \"siapa direktur utama telkomsel\")\n",
    "print(result.final_output)"
   ]
  },
  {
   "cell_type": "code",
   "execution_count": null,
   "id": "f96d3311",
   "metadata": {},
   "outputs": [],
   "source": []
  },
  {
   "cell_type": "code",
   "execution_count": 45,
   "id": "192df849",
   "metadata": {},
   "outputs": [
    {
     "name": "stdout",
     "output_type": "stream",
     "text": [
      "The weather in Paris is currently sunny.\n"
     ]
    }
   ],
   "source": [
    "from agents import Agent, Runner, function_tool\n",
    "#function_tool: decorator to register tools\n",
    "@function_tool\n",
    "def get_weather(city: str) -> str:\n",
    "    return f\"Sunny in {city}\"\n",
    "\n",
    "#First Create an instance of Agent\n",
    "agent = Agent(\n",
    "    name=\"WeatherBot\",\n",
    "    instructions=\"Provide weather info\",\n",
    "    tools=[get_weather]\n",
    ")\n",
    "# in CLI: result = Runner.run_sync(agent, \"What's the weather in Paris?\") in python cli\n",
    "# Call runner.run() to run the agent\n",
    "result = await Runner.run(agent, \"What's the weather in Paris?\")\n",
    "print(result.final_output)"
   ]
  },
  {
   "cell_type": "markdown",
   "id": "ded4fa80",
   "metadata": {},
   "source": [
    "- Use a real weather API (e.g., Open-Meteo)\n",
    "- Add input/output guardrails using pydantic"
   ]
  },
  {
   "cell_type": "code",
   "execution_count": 5,
   "id": "9946a59c",
   "metadata": {},
   "outputs": [],
   "source": [
    "#!pip install httpx"
   ]
  },
  {
   "cell_type": "code",
   "execution_count": 46,
   "id": "b9839e22",
   "metadata": {},
   "outputs": [
    {
     "name": "stdout",
     "output_type": "stream",
     "text": [
      "The current temperature in Jakarta is 31.0°C.\n"
     ]
    }
   ],
   "source": [
    "# Step 1: Install dependencies if needed\n",
    "# !pip install openai-agents httpx\n",
    "\n",
    "# Step 2: Import required modules\n",
    "import httpx\n",
    "from agents import Agent, Runner, function_tool, trace\n",
    "\n",
    "# Step 3: Define the weather tool\n",
    "@function_tool\n",
    "async def get_weather(city: str) -> str:\n",
    "    try:\n",
    "        # Get coordinates for the city\n",
    "        geo = httpx.get(\"https://geocoding-api.open-meteo.com/v1/search\", params={\"name\": city}).json()\n",
    "        if \"results\" not in geo or not geo[\"results\"]:\n",
    "            return \"City not found.\"\n",
    "\n",
    "        lat = geo[\"results\"][0][\"latitude\"]\n",
    "        lon = geo[\"results\"][0][\"longitude\"]\n",
    "\n",
    "        # Fetch current weather data\n",
    "        weather = httpx.get(\"https://api.open-meteo.com/v1/forecast\", params={\n",
    "            \"latitude\": lat,\n",
    "            \"longitude\": lon,\n",
    "            \"current_weather\": True\n",
    "        }).json()\n",
    "\n",
    "        temp = weather[\"current_weather\"][\"temperature\"]\n",
    "        return f\"It is currently {temp}°C in {city}.\"\n",
    "    except Exception as e:\n",
    "        return f\"Failed to get weather for {city}: {e}\"\n",
    "\n",
    "# Step 4: Define fallback agent\n",
    "fallback_agent = Agent(\n",
    "    name=\"FallbackAgent\",\n",
    "    instructions=\"Apologize if the weather data is not available or city is invalid.\"\n",
    ")\n",
    "\n",
    "# Step 5: Define main agent\n",
    "main_agent = Agent(\n",
    "    name=\"WeatherBot\",\n",
    "    instructions=\"You're a weather assistant. Use tools to answer weather questions. If city is unknown, hand off.\",\n",
    "    tools=[get_weather],\n",
    "    handoffs={\"unknown\": fallback_agent}\n",
    ")\n",
    "\n",
    "# Step 6: Run agent with tracing (for Jupyter / async environments)\n",
    "with trace(workflow_name=\"weather_query\"):\n",
    "    result = await Runner.run(main_agent, \"What's the weather in Jakarta?\")\n",
    "    print(result.final_output)\n"
   ]
  },
  {
   "cell_type": "code",
   "execution_count": 47,
   "id": "7f999442",
   "metadata": {},
   "outputs": [],
   "source": [
    "from agents import Agent, WebSearchTool, Runner"
   ]
  },
  {
   "cell_type": "code",
   "execution_count": 62,
   "id": "76a275b7",
   "metadata": {},
   "outputs": [
    {
     "name": "stdout",
     "output_type": "stream",
     "text": [
      "\n",
      "🔎 Final Answer:\n",
      "\n",
      "Berikut adalah daftar penyedia layanan internet (ISP) di Kota Madiun, mencakup pemain besar, menengah, dan kecil:\n",
      "\n",
      "**Pemain Besar:**\n",
      "\n",
      "1. **IndiHome**: Layanan internet berbasis fiber optik dari Telkom Indonesia yang tersedia di Madiun dengan berbagai paket kecepatan hingga 100 Mbps. ([indihomeofficial.id](https://indihomeofficial.id/indihome-madiun/?utm_source=openai))\n",
      "\n",
      "2. **Biznet**: Menyediakan layanan internet dengan kecepatan hingga 175 Mbps untuk pengguna rumahan dan hingga 10 Gbps untuk perusahaan besar. Biznet telah hadir di Madiun sejak Agustus 2015 dan menawarkan berbagai paket sesuai kebutuhan pelanggan. ([biznet.sg](https://www.biznet.sg/en/company/network/city/place/madiun?utm_source=openai))\n",
      "\n",
      "3. **MyRepublic**: Memperluas layanannya ke Madiun pada November 2023, menawarkan berbagai paket internet berkecepatan tinggi untuk pelanggan di area tersebut. ([en.wikipedia.org](https://en.wikipedia.org/wiki/MyRepublic?utm_source=openai))\n",
      "\n",
      "**Pemain Menengah:**\n",
      "\n",
      "1. **ICONNET**: Layanan internet dari PT PLN (Persero) yang menawarkan berbagai paket internet berbasis fiber optik dengan kecepatan hingga 100 Mbps di Madiun. ([iconnet.web.id](https://iconnet.web.id/pasang-wifi-iconnet-madiun/?utm_source=openai))\n",
      "\n",
      "2. **First Media**: Menyediakan layanan internet dan TV kabel dengan berbagai paket kecepatan hingga 175 Mbps, tersedia di Madiun. ([firstmediaweb.com](https://firstmediaweb.com/pasang-firstmedia-madiun/?utm_source=openai))\n",
      "\n",
      "**Pemain Kecil:**\n",
      "\n",
      "1. **CYB Media**: Penyedia layanan internet lokal yang menawarkan berbagai paket internet untuk pelanggan di Madiun. ([cybmedia.com](https://www.cybmedia.com/paket/cyb-madiun?utm_source=openai))\n",
      "\n",
      "2. **ISP Lokal Lainnya**: Menurut Asosiasi Penyelenggara Jasa Internet Indonesia (APJII), terdapat dua anggota ISP yang beroperasi di Kabupaten Madiun, menunjukkan kehadiran penyedia layanan internet lokal lainnya di area tersebut. ([web.apjii.or.id](https://web.apjii.or.id/anggota/infoisp/jawa-timur?utm_source=openai))\n",
      "\n",
      "Dengan berbagai pilihan ISP ini, masyarakat Madiun dapat memilih layanan internet yang sesuai dengan kebutuhan dan anggaran mereka. \n"
     ]
    }
   ],
   "source": [
    "async def main():\n",
    "    # 1. Create an agent equipped with web search\n",
    "    research_agent = Agent(\n",
    "        name=\"Research Agent\", model=\"gpt-4o\",\n",
    "        instructions=\"You're a great search engine and find from official websites\",\n",
    "        tools=[WebSearchTool()]\n",
    "    )\n",
    "\n",
    "    # 2. Run a query\n",
    "    query = \"list wifi and internet provider in madiun, all big, medium and small players\"\n",
    "    result = await Runner.run(research_agent, query)\n",
    "\n",
    "    # 3. Print the full final output with citations\n",
    "    print(\"\\n🔎 Final Answer:\\n\")\n",
    "    print(result.final_output)\n",
    "\n",
    "await main()"
   ]
  },
  {
   "cell_type": "code",
   "execution_count": 49,
   "id": "e8b95165",
   "metadata": {},
   "outputs": [
    {
     "name": "stdout",
     "output_type": "stream",
     "text": [
      "\n",
      "🔎 Final Answer:\n",
      "\n",
      "Here is a table of internet service providers in Madiun, Indonesia, along with their available packages, speeds, and prices:\n",
      "\n",
      "| Provider Name | Package Name | Speed       | Price (IDR) |\n",
      "|---------------|--------------|-------------|-------------|\n",
      "| Biznet        | HOME 0D      | Up to 50 Mbps | 175,000/month |\n",
      "| Biznet        | HOME 1D      | Up to 150 Mbps | 375,000/month |\n",
      "| Biznet        | HOME 2D      | Up to 250 Mbps | 575,000/month |\n",
      "| Biznet        | GAMERS 3D    | Up to 300 Mbps | 700,000/month |\n",
      "| Biznet        | METRONET 1D  | Up to 100 Mbps | 1,000,000/month |\n",
      "| Biznet        | METRONET 2D  | Up to 150 Mbps | 1,700,000/month |\n",
      "| Biznet        | METRONET 3D  | Up to 200 Mbps | 2,700,000/month |\n",
      "| Biznet        | METRONET 4D  | Up to 450 Mbps | 6,500,000/month |\n",
      "| Biznet        | METRONET 5D  | Up to 900 Mbps | 12,500,000/month |\n",
      "| First Media   | Joy Value    | 50 Mbps       | 340,000/month |\n",
      "| First Media   | Joy Pro      | 100 Mbps      | 415,000/month |\n",
      "| First Media   | Joy Premium  | 175 Mbps      | 665,000/month |\n",
      "| First Media   | Star Value   | 50 Mbps       | 975,000/month |\n",
      "| First Media   | Star Pro     | 100 Mbps      | 1,798,500/month |\n",
      "| First Media   | Star Premium | 175 Mbps      | 3,106,500/month |\n",
      "| ICONNET       | 20 Mbps Plan | Up to 20 Mbps | 250,000/month |\n",
      "| ICONNET       | 35 Mbps Plan | Up to 35 Mbps | 265,000/month |\n",
      "| ICONNET       | 50 Mbps Plan | Up to 50 Mbps | 395,000/month |\n",
      "| ICONNET       | 100 Mbps Plan| Up to 100 Mbps| 635,000/month |\n",
      "| MyRepublic    | Not specified| Not specified | Not specified |\n",
      "| CYB Media     | Not specified| Not specified | Not specified |\n",
      "\n",
      "Please note that specific package details for MyRepublic and CYB Media in Madiun are not readily available. It's advisable to contact these providers directly for the most current information on their offerings. \n"
     ]
    }
   ],
   "source": [
    "async def main():\n",
    "    # 1. Create an agent equipped with web search\n",
    "    research_agent = Agent(\n",
    "        name=\"Research Agent\",\n",
    "        instructions=\"You are an assistant that returns structured tables based on user queries.\",\n",
    "        tools=[WebSearchTool()]\n",
    "    )\n",
    "\n",
    "    # 2. Run a query\n",
    "    query = \"Find internet providers in Madiun (if possible 6 unique provider name)  and return a table with columns: Provider Name, Package, Speed, Price.\"\n",
    "    result = await Runner.run(research_agent, query)\n",
    "\n",
    "    # 3. Print the full final output with citations\n",
    "    print(\"\\n🔎 Final Answer:\\n\")\n",
    "    print(result.final_output)\n",
    "\n",
    "await main()"
   ]
  },
  {
   "cell_type": "code",
   "execution_count": null,
   "id": "0d3ef587",
   "metadata": {},
   "outputs": [],
   "source": []
  }
 ],
 "metadata": {
  "kernelspec": {
   "display_name": "tsel",
   "language": "python",
   "name": "python3"
  },
  "language_info": {
   "codemirror_mode": {
    "name": "ipython",
    "version": 3
   },
   "file_extension": ".py",
   "mimetype": "text/x-python",
   "name": "python",
   "nbconvert_exporter": "python",
   "pygments_lexer": "ipython3",
   "version": "3.12.5"
  }
 },
 "nbformat": 4,
 "nbformat_minor": 5
}
