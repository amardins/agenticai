{
 "cells": [
  {
   "cell_type": "code",
   "execution_count": null,
   "id": "22f8869e",
   "metadata": {},
   "outputs": [],
   "source": []
  },
  {
   "cell_type": "markdown",
   "id": "4ee71a7e",
   "metadata": {},
   "source": [
    "## intro to OpenAI Agents SDK"
   ]
  },
  {
   "cell_type": "code",
   "execution_count": 11,
   "id": "f48ed19b",
   "metadata": {},
   "outputs": [
    {
     "data": {
      "text/plain": [
       "True"
      ]
     },
     "execution_count": 11,
     "metadata": {},
     "output_type": "execute_result"
    }
   ],
   "source": [
    "from agents import Agent, Runner\n",
    "from dotenv import load_dotenv\n",
    "load_dotenv()"
   ]
  },
  {
   "cell_type": "code",
   "execution_count": 15,
   "id": "82a7a6c2",
   "metadata": {},
   "outputs": [
    {
     "name": "stdout",
     "output_type": "stream",
     "text": [
      "Telkomsel is one of Indonesia's largest and most trusted telecommunications operators. Established in 1995 and primarily owned by Telkom Indonesia, the company offers a broad range of mobile services, including voice, SMS, data, and a growing suite of digital products and solutions. Known for its extensive network coverage, Telkomsel reaches both bustling urban centers and remote areas across the Indonesian archipelago, ensuring connectivity for millions of users. The company has continually invested in its infrastructure—upgrading from early technologies to 4G LTE and expanding into 5G—thus playing a pivotal role in Indonesia’s digital transformation and economic development.\n"
     ]
    }
   ],
   "source": [
    "agent = Agent(name=\"Assistant\",model=\"o3-mini\", instructions=\"Answer as factually as possible\")\n",
    "result = await Runner.run(agent, \"Write a basic introduction about Telkomsel\")\n",
    "print(result.final_output)"
   ]
  },
  {
   "cell_type": "code",
   "execution_count": null,
   "id": "f96d3311",
   "metadata": {},
   "outputs": [],
   "source": []
  },
  {
   "cell_type": "code",
   "execution_count": 10,
   "id": "192df849",
   "metadata": {},
   "outputs": [
    {
     "name": "stdout",
     "output_type": "stream",
     "text": [
      "The weather in Paris is currently sunny.\n"
     ]
    }
   ],
   "source": [
    "from agents import Agent, Runner, function_tool\n",
    "#function_tool: decorator to register tools\n",
    "@function_tool\n",
    "def get_weather(city: str) -> str:\n",
    "    return f\"Sunny in {city}\"\n",
    "\n",
    "#First Create an instance of Agent\n",
    "agent = Agent(\n",
    "    name=\"WeatherBot\",\n",
    "    instructions=\"Provide weather info\",\n",
    "    tools=[get_weather]\n",
    ")\n",
    "# in CLI: result = Runner.run_sync(agent, \"What's the weather in Paris?\") in python cli\n",
    "# Call runner.run() to run the agent\n",
    "result = await Runner.run(agent, \"What's the weather in Paris?\")\n",
    "print(result.final_output)"
   ]
  },
  {
   "cell_type": "markdown",
   "id": "ded4fa80",
   "metadata": {},
   "source": [
    "- Use a real weather API (e.g., Open-Meteo)\n",
    "- Add input/output guardrails using pydantic"
   ]
  },
  {
   "cell_type": "code",
   "execution_count": 5,
   "id": "9946a59c",
   "metadata": {},
   "outputs": [],
   "source": [
    "#!pip install httpx"
   ]
  },
  {
   "cell_type": "code",
   "execution_count": 9,
   "id": "b9839e22",
   "metadata": {},
   "outputs": [
    {
     "name": "stdout",
     "output_type": "stream",
     "text": [
      "It's currently 30.5°C in Jakarta.\n"
     ]
    }
   ],
   "source": [
    "# Step 1: Install dependencies if needed\n",
    "# !pip install openai-agents httpx\n",
    "\n",
    "# Step 2: Import required modules\n",
    "import httpx\n",
    "from agents import Agent, Runner, function_tool, trace\n",
    "\n",
    "# Step 3: Define the weather tool\n",
    "@function_tool\n",
    "async def get_weather(city: str) -> str:\n",
    "    try:\n",
    "        # Get coordinates for the city\n",
    "        geo = httpx.get(\"https://geocoding-api.open-meteo.com/v1/search\", params={\"name\": city}).json()\n",
    "        if \"results\" not in geo or not geo[\"results\"]:\n",
    "            return \"City not found.\"\n",
    "\n",
    "        lat = geo[\"results\"][0][\"latitude\"]\n",
    "        lon = geo[\"results\"][0][\"longitude\"]\n",
    "\n",
    "        # Fetch current weather data\n",
    "        weather = httpx.get(\"https://api.open-meteo.com/v1/forecast\", params={\n",
    "            \"latitude\": lat,\n",
    "            \"longitude\": lon,\n",
    "            \"current_weather\": True\n",
    "        }).json()\n",
    "\n",
    "        temp = weather[\"current_weather\"][\"temperature\"]\n",
    "        return f\"It is currently {temp}°C in {city}.\"\n",
    "    except Exception as e:\n",
    "        return f\"Failed to get weather for {city}: {e}\"\n",
    "\n",
    "# Step 4: Define fallback agent\n",
    "fallback_agent = Agent(\n",
    "    name=\"FallbackAgent\",\n",
    "    instructions=\"Apologize if the weather data is not available or city is invalid.\"\n",
    ")\n",
    "\n",
    "# Step 5: Define main agent\n",
    "main_agent = Agent(\n",
    "    name=\"WeatherBot\",\n",
    "    instructions=\"You're a weather assistant. Use tools to answer weather questions. If city is unknown, hand off.\",\n",
    "    tools=[get_weather],\n",
    "    handoffs={\"unknown\": fallback_agent}\n",
    ")\n",
    "\n",
    "# Step 6: Run agent with tracing (for Jupyter / async environments)\n",
    "with trace(workflow_name=\"weather_query\"):\n",
    "    result = await Runner.run(main_agent, \"What's the weather in Jakarta?\")\n",
    "    print(result.final_output)\n"
   ]
  },
  {
   "cell_type": "code",
   "execution_count": 24,
   "id": "7f999442",
   "metadata": {},
   "outputs": [],
   "source": [
    "from agents import Agent, WebSearchTool, Runner"
   ]
  },
  {
   "cell_type": "code",
   "execution_count": 29,
   "id": "76a275b7",
   "metadata": {},
   "outputs": [
    {
     "name": "stdout",
     "output_type": "stream",
     "text": [
      "\n",
      "🔎 Final Answer:\n",
      "\n",
      "Pada 27 Mei 2025, Rapat Umum Pemegang Saham Tahunan (RUPST) PT Telkom Indonesia (Persero) Tbk mengangkat Dian Siswarini sebagai Direktur Utama, menggantikan Ririek Adriansyah yang telah menjabat sejak 2019. ([antaranews.com](https://www.antaranews.com/berita/4862029/rupst-telkom-angkat-dian-siswarini-jadi-dirut/?utm_source=openai))\n",
      "\n",
      "Sebelumnya, Dian Siswarini menjabat sebagai Presiden Direktur dan CEO PT XL Axiata Tbk sejak 2015 hingga mengundurkan diri pada Desember 2024. ([telko.id](https://telko.id/operator/telkom/telkom-tunjuk-dian-siswarini-gantikan-ririek-adriansyah-sebagai-dirut/?utm_source=openai))\n",
      "\n",
      "Dengan pengalaman lebih dari dua dekade di industri telekomunikasi, termasuk transformasi digital di XL Axiata, Dian diharapkan dapat membawa Telkom Indonesia ke arah transformasi digital yang lebih progresif dan adaptif terhadap dinamika pasar yang terus berkembang. ([eksekutor.com](https://eksekutor.com/2025/05/27/dian-siswarini-ditunjuk-sebagai-direktur-utama-telkom-tlkm/?utm_source=openai)) \n"
     ]
    }
   ],
   "source": [
    "async def main():\n",
    "    # 1. Create an agent equipped with web search\n",
    "    research_agent = Agent(\n",
    "        name=\"Research Agent\",\n",
    "        instructions=\"You're a research assistant that uses web search to find up-to-date info and cite sources.\",\n",
    "        tools=[WebSearchTool()]\n",
    "    )\n",
    "\n",
    "    # 2. Run a query\n",
    "    query = \"Siapa direktur utama telkom indonesia?\"\n",
    "    result = await Runner.run(research_agent, query)\n",
    "\n",
    "    # 3. Print the full final output with citations\n",
    "    print(\"\\n🔎 Final Answer:\\n\")\n",
    "    print(result.final_output)\n",
    "\n",
    "await main()"
   ]
  },
  {
   "cell_type": "code",
   "execution_count": 33,
   "id": "e8b95165",
   "metadata": {},
   "outputs": [
    {
     "name": "stdout",
     "output_type": "stream",
     "text": [
      "\n",
      "🔎 Final Answer:\n",
      "\n",
      "Berikut adalah daftar beberapa penyedia layanan internet di Madiun beserta paket, kecepatan, dan harga yang mereka tawarkan:\n",
      "\n",
      "| Nama Penyedia | Paket           | Kecepatan       | Harga          |\n",
      "|---------------|-----------------|-----------------|----------------|\n",
      "| **Biznet**    | Home 0D         | Hingga 50 Mbps  | Rp 175.000/bulan |\n",
      "|               | Home 1D         | Hingga 150 Mbps | Rp 375.000/bulan |\n",
      "|               | Home 2D         | Hingga 250 Mbps | Rp 575.000/bulan |\n",
      "|               | Gamers 3D       | Hingga 300 Mbps | Rp 700.000/bulan |\n",
      "| **IndiHome**  | 10 Mbps         | 10 Mbps         | Rp 150.000/bulan |\n",
      "|               | 20 Mbps         | 20 Mbps         | Rp 200.000/bulan |\n",
      "|               | 50 Mbps         | 50 Mbps         | Rp 300.000/bulan |\n",
      "|               | 100 Mbps        | 100 Mbps        | Rp 500.000/bulan |\n",
      "| **MyRepublic**| Nova            | 30 Mbps         | Rp 329.000/bulan |\n",
      "|               | Fast            | 50 Mbps         | Rp 399.000/bulan |\n",
      "|               | Value           | 100 Mbps        | Rp 499.000/bulan |\n",
      "|               | Gamer           | 150 Mbps        | Rp 599.000/bulan |\n",
      "| **ICONNET**   | 20 Mbps         | 20 Mbps         | Rp 212.000/bulan |\n",
      "|               | 35 Mbps         | 35 Mbps         | Rp 230.000/bulan |\n",
      "|               | 50 Mbps         | 50 Mbps         | Rp 336.000/bulan |\n",
      "|               | 100 Mbps        | 100 Mbps        | Rp 563.000/bulan |\n",
      "| **First Media**| Stream Package | 30 Mbps         | Rp 299.000/bulan |\n",
      "|               | Joy Package     | 50 Mbps         | Rp 399.000/bulan |\n",
      "|               | Star Package    | 100 Mbps        | Rp 599.000/bulan |\n",
      "|               | Supreme Package | 150 Mbps        | Rp 899.000/bulan |\n",
      "| **MNC Play**  | Play 1          | 10 Mbps         | Rp 269.000/bulan |\n",
      "|               | Play 2          | 20 Mbps         | Rp 369.000/bulan |\n",
      "|               | Play 3          | 30 Mbps         | Rp 469.000/bulan |\n",
      "|               | Play 4          | 50 Mbps         | Rp 599.000/bulan |\n",
      "\n",
      "Perlu dicatat bahwa ketersediaan layanan dan harga dapat berbeda tergantung lokasi spesifik di Madiun. Disarankan untuk menghubungi penyedia layanan terkait untuk informasi lebih lanjut dan memastikan ketersediaan layanan di area Anda. \n"
     ]
    }
   ],
   "source": [
    "async def main():\n",
    "    # 1. Create an agent equipped with web search\n",
    "    research_agent = Agent(\n",
    "        name=\"Research Agent\",\n",
    "        instructions=\"You are an assistant that returns structured tables based on user queries.\",\n",
    "        tools=[WebSearchTool()]\n",
    "    )\n",
    "\n",
    "    # 2. Run a query\n",
    "    query = \"Find internet providers in Madiun (if possible 6 unique provider name)  and return a table with columns: Provider Name, Package, Speed, Price.\"\n",
    "    result = await Runner.run(research_agent, query)\n",
    "\n",
    "    # 3. Print the full final output with citations\n",
    "    print(\"\\n🔎 Final Answer:\\n\")\n",
    "    print(result.final_output)\n",
    "\n",
    "await main()"
   ]
  },
  {
   "cell_type": "code",
   "execution_count": null,
   "id": "0d3ef587",
   "metadata": {},
   "outputs": [],
   "source": []
  }
 ],
 "metadata": {
  "kernelspec": {
   "display_name": "tsel",
   "language": "python",
   "name": "python3"
  },
  "language_info": {
   "codemirror_mode": {
    "name": "ipython",
    "version": 3
   },
   "file_extension": ".py",
   "mimetype": "text/x-python",
   "name": "python",
   "nbconvert_exporter": "python",
   "pygments_lexer": "ipython3",
   "version": "3.12.5"
  }
 },
 "nbformat": 4,
 "nbformat_minor": 5
}
