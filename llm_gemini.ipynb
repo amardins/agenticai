{
 "cells": [
  {
   "cell_type": "code",
   "execution_count": 2,
   "id": "6f82403d",
   "metadata": {},
   "outputs": [
    {
     "name": "stdout",
     "output_type": "stream",
     "text": [
      "Okay, imagine regular computers use light switches: they can be either **ON (1)** or **OFF (0)**.  These are called **bits**.\n",
      "\n",
      "Quantum computers are different. They use **qubits** (quantum bits).  Think of a light switch that can be **ON (1), OFF (0), OR *BOTH* at the SAME TIME.**\n",
      "\n",
      "Here's the breakdown:\n",
      "\n",
      "* **Bits (Classical Computers):** Like a light switch, they're either ON (1) or OFF (0).  Simple and definite.\n",
      "* **Qubits (Quantum Computers):**  Imagine that same light switch, but now it can be both ON *and* OFF at the *same time*. This \"both at the same time\" is called **superposition**.  Think of it like a coin spinning in the air – it's neither heads nor tails until it lands.\n",
      "\n",
      "**Why is \"both at the same time\" so powerful?**\n",
      "\n",
      "Because instead of checking possibilities ONE at a time (like a regular computer), a quantum computer can explore ALL possibilities *simultaneously*. This leads to massive speedups for certain types of problems.\n",
      "\n",
      "**Key Quantum Concepts in a Nutshell:**\n",
      "\n",
      "* **Superposition:**  A qubit being in multiple states (0 and 1) at the same time.  Like a coin spinning.\n",
      "* **Entanglement:** Two qubits becoming linked together.  If you change the state of one, you instantly know the state of the other, no matter how far apart they are.  Imagine two coins magically linked – if one lands heads, the other instantly lands tails.\n",
      "* **Quantum Interference:**  Qubits can interfere with each other, reinforcing some answers and canceling out others.  This helps quantum computers find the most likely, correct solutions. Think of waves interacting – some get bigger, some get smaller.\n",
      "\n",
      "**What does this mean for real-world applications?**\n",
      "\n",
      "Quantum computers are still in their early stages, but they have the potential to revolutionize:\n",
      "\n",
      "* **Drug Discovery:** Simulate molecules to design new and better drugs.\n",
      "* **Materials Science:**  Discover new materials with unique properties.\n",
      "* **Finance:**  Develop better risk management and trading strategies.\n",
      "* **Cryptography:**  Break current encryption methods (and create new, quantum-resistant ones).\n",
      "* **Artificial Intelligence:**  Train more powerful AI models.\n",
      "\n",
      "**In summary:**\n",
      "\n",
      "Quantum computers use qubits that can be both 0 and 1 at the same time (superposition) and can be linked together (entanglement). This allows them to explore many possibilities simultaneously, making them potentially much faster than regular computers for specific, complex problems. They're not going to replace your laptop anytime soon, but they have the potential to solve problems that are currently impossible for classical computers.\n",
      "\n"
     ]
    }
   ],
   "source": [
    "from openai import OpenAI\n",
    "import os\n",
    "\n",
    "client = OpenAI(\n",
    "    api_key=os.getenv(\"GOOGLE_API_KEY\"),  # ✅ Use a valid, working API key\n",
    "    base_url=\"https://generativelanguage.googleapis.com/v1beta/openai/\"\n",
    ")\n",
    "\n",
    "response = client.chat.completions.create(\n",
    "    model=\"gemini-2.0-flash\",  # or \"gemini-1.5-flash\", depending on access\n",
    "    messages=[\n",
    "        {\"role\": \"user\", \"content\": \"Explain quantum computing in simple terms.\"}\n",
    "    ]\n",
    ")\n",
    "\n",
    "print(response.choices[0].message.content)"
   ]
  },
  {
   "cell_type": "code",
   "execution_count": null,
   "id": "41aa152e",
   "metadata": {},
   "outputs": [],
   "source": []
  }
 ],
 "metadata": {
  "kernelspec": {
   "display_name": "tsel",
   "language": "python",
   "name": "python3"
  },
  "language_info": {
   "codemirror_mode": {
    "name": "ipython",
    "version": 3
   },
   "file_extension": ".py",
   "mimetype": "text/x-python",
   "name": "python",
   "nbconvert_exporter": "python",
   "pygments_lexer": "ipython3",
   "version": "3.12.5"
  }
 },
 "nbformat": 4,
 "nbformat_minor": 5
}
