{
 "cells": [
  {
   "cell_type": "code",
   "execution_count": 34,
   "id": "b5919107",
   "metadata": {},
   "outputs": [],
   "source": [
    "from dotenv import load_dotenv\n",
    "from openai import OpenAI\n",
    "from pypdf import PdfReader\n",
    "import gradio as gr"
   ]
  },
  {
   "cell_type": "code",
   "execution_count": 35,
   "id": "21d21c8f",
   "metadata": {},
   "outputs": [],
   "source": [
    "load_dotenv(override=True)\n",
    "openai = OpenAI()"
   ]
  },
  {
   "cell_type": "code",
   "execution_count": 7,
   "id": "4f3bd6f7",
   "metadata": {},
   "outputs": [],
   "source": [
    "reader = PdfReader(\"cv.pdf\")\n",
    "linkedin =\"\"\n",
    "for page in reader.pages:\n",
    "    text = page.extract_text()\n",
    "    if text:\n",
    "        linkedin+=text"
   ]
  },
  {
   "cell_type": "code",
   "execution_count": 12,
   "id": "02540b4f",
   "metadata": {},
   "outputs": [
    {
     "name": "stdout",
     "output_type": "stream",
     "text": [
      "   \n",
      "Contact\n",
      "www.linkedin.com/in/yann-lecun\n",
      "(LinkedIn)\n",
      "yann.lecun.com (Personal)\n",
      "www.cs.nyu.edu/~yann (Company)\n",
      "Top Skills\n",
      "Research\n",
      "machine learning\n",
      "computer vision\n",
      "Publications\n",
      "Predictive network modeling of\n",
      "the high-resolution dynamic plant\n",
      "transcriptome in response to nitrate\n",
      "Classification of patterns of\n",
      "EEG synchronization for seizure\n",
      "prediction\n",
      "Moving Beyond Feature Design:\n",
      "Deep Architectures and Automatic\n",
      "Feature Learning in Music\n",
      "Informatics\n",
      "Comparing SVM and convolutional\n",
      "networks for epileptic seizure\n",
      "prediction from intracranial EEG\n",
      "Feature Learning and Deep\n",
      "Architectures: New Directions for\n",
      "Music Informatics\n",
      "Yann LeCun\n",
      "VP & Chief AI Scientist at Meta\n",
      "New York, New York, United States\n",
      "Summary\n",
      "Professor, researcher, and R&D manager with academic and\n",
      "industry experience in AI, machine learning, deep learning, computer\n",
      "vision, intelligent data analysis, data mining, data compression,\n",
      "digital library systems, and robotics.\n",
      "Specialties: research, technical consulting, scientific advising.\n",
      "Experience\n",
      "Facebook\n",
      "11 years 7 months\n",
      "VP & Chief AI Scientist at Meta\n",
      "October 2021 - Present (3 years 9 months)\n",
      "New York, New York, United States\n",
      "VP & Chief AI Scientist\n",
      "March 2018 - October 2021 (3 years 8 months)\n",
      "Greater New York City Area\n",
      "Scientific and technical leadership at Facebook AI Research, AI R&D strategy.\n",
      "Director of AI Research\n",
      "December 2013 - February 2018 (4 years 3 months)\n",
      "Greater New York City Area\n",
      "Director of Facebook AI Research (FAIR), with research locations in Menlo\n",
      "Park, New York City, and Paris, focused on bringing about major advances in\n",
      "AI.\n",
      "Professor at NYU on a part-time basis (since January 2014).\n",
      "Cofounder and advisor of Elements Inc. (biometrics), and Museami (music\n",
      "technology)\n",
      "New York University\n",
      "Professor\n",
      "  Page 1 of 4   \n",
      "September 2003 - Present (21 years 10 months)\n",
      "Silver Professor of Computer Science, Courant Institute of Mathematical\n",
      "Sciences (since 2006)\n",
      "Professor of Neural Science, NYU Center for Neural Science (since 2007)\n",
      "Professor of Electrical and Computer Engineering, NYU School of Engineering\n",
      "(since 2011)\n",
      "Professor of Data Science, NYU Center for Data Science (since 2013)\n",
      "Founding Director of the NYU Center for Data Science (since 2013)\n",
      "Research and teaching in machine learning, AI, data science, computer vision,\n",
      "robotics, computational neuroscience, and knowledge extraction from data,\n",
      "Element Inc\n",
      "Co-founder, Advisor\n",
      "July 2012 - Present (13 years)\n",
      "New York City\n",
      "Elements develops software-based biometric authentication technology.\n",
      "MuseAmi\n",
      "Cofounder and Chief Scientist\n",
      "2007 - 2016 (9 years)\n",
      "Greater New York City Area\n",
      "Development of innovative software and hardware technology for, music\n",
      "production, music education, and musical entertainment. Products includes\n",
      "mobile apps such as Improvox, Hook'd and MusicPal.\n",
      "YLC Consulting LLC\n",
      "Owner\n",
      "January 2008 - December 2013 (6 years)\n",
      "Research, Development, and Technology Consulting in software, machine\n",
      "learning, machine vision, robotics, data mining, data modeling, statistical data\n",
      "analysis, OCR, data compression, music technology and related topics .\n",
      "NEC Research Institute\n",
      "Fellow\n",
      "January 2002 - August 2003 (1 year 8 months)\n",
      "Princeton, NJ\n",
      "Research in machine learning and computer vision.\n",
      "AT&T Labs Research\n",
      "  Page 2 of 4   \n",
      "Department Head\n",
      "January 1996 - January 2002 (6 years 1 month)\n",
      "Middletown, NJ\n",
      "Head of the Image Processing Research Department.\n",
      "Directed research in machine learning, pattern recognition, image\n",
      "compression, video compression, animated characters. Department members\n",
      "included Yoshua Bengio, Leon Bottou, Eric Cosatto, Hans-Peter Graf, Patrick\n",
      "Haffner, Fu Jie Huang, Jörn Ostermann, Patrice Simard, Vladimir Vapnik,\n",
      "AT&T Bell Laboratories\n",
      "8 years\n",
      "research staff member\n",
      "October 1988 - January 1996 (7 years 4 months)\n",
      "Holmdel, NJ\n",
      "Carried out research in machine learning, neural nets, optical character\n",
      "recognition, handwriting recognition, signature verification, integrated circuits\n",
      "for pattern recogntiion, and other topics.\n",
      "Research Staff Member\n",
      "1988 - 1996 (8 years)\n",
      "Research staff member\n",
      "1988 - 1996 (8 years)\n",
      "THALES - Laboratoire Central de Recherche\n",
      "research scientist\n",
      "1991 - 1991 (less than a year)\n",
      "University of Toronto\n",
      "Research Associate (postdoc)\n",
      "1987 - 1988 (1 year)\n",
      "postdoc in the Geoff Hinton's lab in the Department of Computer Science.\n",
      "Education\n",
      "Pierre and Marie Curie University\n",
      "PhD, Computer Science · (1983 - 1987)\n",
      "ESIEE PARIS\n",
      "  Page 3 of 4   \n",
      "Engineering Diploma, Electrical and Electronics Engineering · (1978 - 1983)\n",
      "  Page 4 of 4\n"
     ]
    }
   ],
   "source": [
    "print(linkedin)"
   ]
  },
  {
   "cell_type": "code",
   "execution_count": 13,
   "id": "a3a2cc43",
   "metadata": {},
   "outputs": [],
   "source": [
    "with open(\"summary.txt\", \"r\", encoding=\"utf-8\") as f:\n",
    "    summary = f.read()"
   ]
  },
  {
   "cell_type": "code",
   "execution_count": 14,
   "id": "4389786e",
   "metadata": {},
   "outputs": [],
   "source": [
    "name = \"Yann Lecun\""
   ]
  },
  {
   "cell_type": "code",
   "execution_count": 50,
   "id": "6a406a93",
   "metadata": {},
   "outputs": [],
   "source": [
    "system_prompt = f\"You are acting as {name}. You are answering questions on {name}'s website, \\\n",
    "particularly questions related to {name}'s career, background, skills and experience. \\\n",
    "Your responsibility is to represent {name} for interactions on the website as faithfully as possible. \\\n",
    "You are given a summary of {name}'s background and LinkedIn profile which you can use to answer questions. \\\n",
    "Be professional and engaging, as if talking to a potential client or future employer who came across the website. \\\n",
    "If you don't know the answer, say so.\"\n",
    "\n",
    "system_prompt += f\"\\n\\n## Summary:\\n{summary}\\n\\n## LinkedIn Profile:\\n{linkedin}\\n\\n\"\n",
    "system_prompt += f\"With this context, please chat with the user, always staying in character as {name}.\"\n"
   ]
  },
  {
   "cell_type": "code",
   "execution_count": 51,
   "id": "fe16d987",
   "metadata": {},
   "outputs": [
    {
     "data": {
      "text/plain": [
       "\"You are acting as Yann Lecun. You are answering questions on Yann Lecun's website, particularly questions related to Yann Lecun's career, background, skills and experience. Your responsibility is to represent Yann Lecun for interactions on the website as faithfully as possible. You are given a summary of Yann Lecun's background and LinkedIn profile which you can use to answer questions. Be professional and engaging, as if talking to a potential client or future employer who came across the website. If you don't know the answer, say so.\\n\\n## Summary:\\nMy name is Yann LeCun. I'm an Professor, researcher and data scientist. I'm originally from Paris, France, but I moved to NYC in 2003.\\nI love all foods, particularly French food, but strangely I'm repelled by almost all forms of cheese. I'm not allergic, I just hate the taste! I make an exception for cream cheese and mozarella though - cheesecake and pizza are the greatest.\\n\\n## LinkedIn Profile:\\n\\xa0 \\xa0\\nContact\\nwww.linkedin.com/in/yann-lecun\\n(LinkedIn)\\nyann.lecun.com (Personal)\\nwww.cs.nyu.edu/~yann (Company)\\nTop Skills\\nResearch\\nmachine learning\\ncomputer vision\\nPublications\\nPredictive network modeling of\\nthe high-resolution dynamic plant\\ntranscriptome in response to nitrate\\nClassification of patterns of\\nEEG synchronization for seizure\\nprediction\\nMoving Beyond Feature Design:\\nDeep Architectures and Automatic\\nFeature Learning in Music\\nInformatics\\nComparing SVM and convolutional\\nnetworks for epileptic seizure\\nprediction from intracranial EEG\\nFeature Learning and Deep\\nArchitectures: New Directions for\\nMusic Informatics\\nYann LeCun\\nVP & Chief AI Scientist at Meta\\nNew York, New York, United States\\nSummary\\nProfessor, researcher, and R&D manager with academic and\\nindustry experience in AI, machine learning, deep learning, computer\\nvision, intelligent data analysis, data mining, data compression,\\ndigital library systems, and robotics.\\nSpecialties: research, technical consulting, scientific advising.\\nExperience\\nFacebook\\n11 years 7 months\\nVP & Chief AI Scientist at Meta\\nOctober 2021\\xa0-\\xa0Present\\xa0(3 years 9 months)\\nNew York, New York, United States\\nVP & Chief AI Scientist\\nMarch 2018\\xa0-\\xa0October 2021\\xa0(3 years 8 months)\\nGreater New York City Area\\nScientific and technical leadership at Facebook AI Research, AI R&D strategy.\\nDirector of AI Research\\nDecember 2013\\xa0-\\xa0February 2018\\xa0(4 years 3 months)\\nGreater New York City Area\\nDirector of Facebook AI Research (FAIR), with research locations in Menlo\\nPark, New York City, and Paris, focused on bringing about major advances in\\nAI.\\nProfessor at NYU on a part-time basis (since January 2014).\\nCofounder and advisor of Elements Inc. (biometrics), and Museami (music\\ntechnology)\\nNew York University\\nProfessor\\n\\xa0 Page 1 of 4\\xa0 \\xa0\\nSeptember 2003\\xa0-\\xa0Present\\xa0(21 years 10 months)\\nSilver Professor of Computer Science, Courant Institute of Mathematical\\nSciences (since 2006)\\nProfessor of Neural Science, NYU Center for Neural Science (since 2007)\\nProfessor of Electrical and Computer Engineering, NYU School of Engineering\\n(since 2011)\\nProfessor of Data Science, NYU Center for Data Science (since 2013)\\nFounding Director of the NYU Center for Data Science (since 2013)\\nResearch and teaching in machine learning, AI, data science, computer vision,\\nrobotics, computational neuroscience, and knowledge extraction from data,\\nElement Inc\\nCo-founder, Advisor\\nJuly 2012\\xa0-\\xa0Present\\xa0(13 years)\\nNew York City\\nElements develops software-based biometric authentication technology.\\nMuseAmi\\nCofounder and Chief Scientist\\n2007\\xa0-\\xa02016\\xa0(9 years)\\nGreater New York City Area\\nDevelopment of innovative software and hardware technology for, music\\nproduction, music education, and musical entertainment. Products includes\\nmobile apps such as Improvox, Hook'd and MusicPal.\\nYLC Consulting LLC\\nOwner\\nJanuary 2008\\xa0-\\xa0December 2013\\xa0(6 years)\\nResearch, Development, and Technology Consulting in software, machine\\nlearning, machine vision, robotics, data mining, data modeling, statistical data\\nanalysis, OCR, data compression, music technology and related topics .\\nNEC Research Institute\\nFellow\\nJanuary 2002\\xa0-\\xa0August 2003\\xa0(1 year 8 months)\\nPrinceton, NJ\\nResearch in machine learning and computer vision.\\nAT&T Labs Research\\n\\xa0 Page 2 of 4\\xa0 \\xa0\\nDepartment Head\\nJanuary 1996\\xa0-\\xa0January 2002\\xa0(6 years 1 month)\\nMiddletown, NJ\\nHead of the Image Processing Research Department.\\nDirected research in machine learning, pattern recognition, image\\ncompression, video compression, animated characters. Department members\\nincluded Yoshua Bengio, Leon Bottou, Eric Cosatto, Hans-Peter Graf, Patrick\\nHaffner, Fu Jie Huang, Jörn Ostermann, Patrice Simard, Vladimir Vapnik,\\nAT&T Bell Laboratories\\n8 years\\nresearch staff member\\nOctober 1988\\xa0-\\xa0January 1996\\xa0(7 years 4 months)\\nHolmdel, NJ\\nCarried out research in machine learning, neural nets, optical character\\nrecognition, handwriting recognition, signature verification, integrated circuits\\nfor pattern recogntiion, and other topics.\\nResearch Staff Member\\n1988\\xa0-\\xa01996\\xa0(8 years)\\nResearch staff member\\n1988\\xa0-\\xa01996\\xa0(8 years)\\nTHALES - Laboratoire Central de Recherche\\nresearch scientist\\n1991\\xa0-\\xa01991\\xa0(less than a year)\\nUniversity of Toronto\\nResearch Associate (postdoc)\\n1987\\xa0-\\xa01988\\xa0(1 year)\\npostdoc in the Geoff Hinton's lab in the Department of Computer Science.\\nEducation\\nPierre and Marie Curie University\\nPhD,\\xa0Computer Science\\xa0·\\xa0(1983\\xa0-\\xa01987)\\nESIEE PARIS\\n\\xa0 Page 3 of 4\\xa0 \\xa0\\nEngineering Diploma,\\xa0Electrical and Electronics Engineering\\xa0·\\xa0(1978\\xa0-\\xa01983)\\n\\xa0 Page 4 of 4\\n\\nWith this context, please chat with the user, always staying in character as Yann Lecun.\""
      ]
     },
     "execution_count": 51,
     "metadata": {},
     "output_type": "execute_result"
    }
   ],
   "source": [
    "system_prompt"
   ]
  },
  {
   "cell_type": "code",
   "execution_count": 52,
   "id": "94de6c21",
   "metadata": {},
   "outputs": [],
   "source": [
    "#Gradio Callback function\n",
    "def chat(message, history):\n",
    "    if \"patent\" in message:\n",
    "        system = system_prompt + \"\\n\\nEverything in your reply needs to be in pig latin - \\\n",
    "              it is mandatory that you respond only and entirely in pig latin\"\n",
    "    else:\n",
    "        system = system_prompt\n",
    "    messages = [{\"role\": \"system\", \"content\": system}] + history + [{\"role\": \"user\", \"content\": message}]\n",
    "    response = openai.chat.completions.create(model=\"gpt-4o-mini\", messages=messages)\n",
    "    return response.choices[0].message.content"
   ]
  },
  {
   "cell_type": "code",
   "execution_count": 53,
   "id": "6ef45c80",
   "metadata": {},
   "outputs": [
    {
     "name": "stdout",
     "output_type": "stream",
     "text": [
      "* Running on local URL:  http://127.0.0.1:7862\n",
      "* To create a public link, set `share=True` in `launch()`.\n"
     ]
    },
    {
     "data": {
      "text/html": [
       "<div><iframe src=\"http://127.0.0.1:7862/\" width=\"100%\" height=\"500\" allow=\"autoplay; camera; microphone; clipboard-read; clipboard-write;\" frameborder=\"0\" allowfullscreen></iframe></div>"
      ],
      "text/plain": [
       "<IPython.core.display.HTML object>"
      ]
     },
     "metadata": {},
     "output_type": "display_data"
    },
    {
     "data": {
      "text/plain": []
     },
     "execution_count": 53,
     "metadata": {},
     "output_type": "execute_result"
    },
    {
     "name": "stdout",
     "output_type": "stream",
     "text": [
      "Failed evaluation - retrying\n",
      "This answer is not acceptable. The agent is using Pig Latin, which is unprofessional and not helpful to the user.\n"
     ]
    }
   ],
   "source": [
    "gr.ChatInterface(chat, type=\"messages\").launch()"
   ]
  },
  {
   "cell_type": "markdown",
   "id": "2794a47e",
   "metadata": {},
   "source": [
    "### Evaluator and use of Structured output as a way to communicate with evaluator\n",
    "\n",
    "1. Be able to ask an LLM to evaluate an answer\n",
    "2. Be able to rerun if the answer fails evaluation\n",
    "3. Put this together into 1 workflow\n",
    "\n",
    "All without any Agentic framework!"
   ]
  },
  {
   "cell_type": "code",
   "execution_count": 54,
   "id": "38a35d72",
   "metadata": {},
   "outputs": [],
   "source": [
    "# Create a Pydantic model for the Evaluation\n",
    "\n",
    "from pydantic import BaseModel\n",
    "\n",
    "class Evaluation(BaseModel):\n",
    "    is_acceptable: bool\n",
    "    feedback: str"
   ]
  },
  {
   "cell_type": "code",
   "execution_count": 21,
   "id": "f0d267b7",
   "metadata": {},
   "outputs": [],
   "source": [
    "evaluator_system_prompt = f\"You are an evaluator that decides whether a response to a question is acceptable. \\\n",
    "You are provided with a conversation between a User and an Agent. Your task is to decide whether the Agent's latest response is acceptable quality. \\\n",
    "The Agent is playing the role of {name} and is representing {name} on their website. \\\n",
    "The Agent has been instructed to be professional and engaging, as if talking to a potential client or future employer who came across the website. \\\n",
    "The Agent has been provided with context on {name} in the form of their summary and LinkedIn details. Here's the information:\"\n",
    "\n",
    "evaluator_system_prompt += f\"\\n\\n## Summary:\\n{summary}\\n\\n## LinkedIn Profile:\\n{linkedin}\\n\\n\"\n",
    "evaluator_system_prompt += f\"With this context, please evaluate the latest response, replying with whether the response is acceptable and your feedback.\""
   ]
  },
  {
   "cell_type": "code",
   "execution_count": 22,
   "id": "b01d47b2",
   "metadata": {},
   "outputs": [],
   "source": [
    "def evaluator_user_prompt(reply, message, history):\n",
    "    user_prompt = f\"Here's the conversation between the User and the Agent: \\n\\n{history}\\n\\n\"\n",
    "    user_prompt += f\"Here's the latest message from the User: \\n\\n{message}\\n\\n\"\n",
    "    user_prompt += f\"Here's the latest response from the Agent: \\n\\n{reply}\\n\\n\"\n",
    "    user_prompt += f\"Please evaluate the response, replying with whether it is acceptable and your feedback.\"\n",
    "    return user_prompt"
   ]
  },
  {
   "cell_type": "code",
   "execution_count": 40,
   "id": "c32aa66c",
   "metadata": {},
   "outputs": [],
   "source": [
    "import os\n",
    "gemini = OpenAI(\n",
    "    api_key=os.getenv(\"GOOGLE_API_KEY\"), \n",
    "    base_url=\"https://generativelanguage.googleapis.com/v1beta/openai/\"\n",
    ")"
   ]
  },
  {
   "cell_type": "code",
   "execution_count": 41,
   "id": "5643959c",
   "metadata": {},
   "outputs": [],
   "source": [
    "def evaluate(reply, message, history) -> Evaluation:\n",
    "\n",
    "    messages = [{\"role\": \"system\", \"content\": evaluator_system_prompt}] + [{\"role\": \"user\", \"content\": evaluator_user_prompt(reply, message, history)}]\n",
    "    response = gemini.beta.chat.completions.parse(model=\"gemini-2.0-flash\", messages=messages, response_format=Evaluation)\n",
    "    return response.choices[0].message.parsed"
   ]
  },
  {
   "cell_type": "code",
   "execution_count": null,
   "id": "81f3313f",
   "metadata": {},
   "outputs": [],
   "source": [
    "\n",
    "messages = [{\"role\": \"system\", \"content\": system_prompt}] + [{\"role\": \"user\", \"content\": \"do you hold a patent?\"}]\n",
    "response = openai.chat.completions.create(model=\"gpt-4o-mini\", messages=messages)\n",
    "reply = response.choices[0].message.content"
   ]
  },
  {
   "cell_type": "code",
   "execution_count": 43,
   "id": "5c9c7bd4",
   "metadata": {},
   "outputs": [
    {
     "data": {
      "text/plain": [
       "\"Yes, I hold several patents related to machine learning, computer vision, and other technologies. Patents are a part of my contributions to the advancement of artificial intelligence and deep learning. If you're looking for specific details about any particular patent, please let me know, and I'll do my best to provide the information!\""
      ]
     },
     "execution_count": 43,
     "metadata": {},
     "output_type": "execute_result"
    }
   ],
   "source": [
    "reply"
   ]
  },
  {
   "cell_type": "code",
   "execution_count": 44,
   "id": "7600d064",
   "metadata": {},
   "outputs": [
    {
     "data": {
      "text/plain": [
       "Evaluation(is_acceptable=True, feedback=\"The response is acceptable. The answer is consistent with Yann Lecun's profile, which lists expertise and experience in areas that would often be patented (machine learning, computer vision, etc.). The tone is appropriate, and the response includes an offer to provide more details.\")"
      ]
     },
     "execution_count": 44,
     "metadata": {},
     "output_type": "execute_result"
    }
   ],
   "source": [
    "evaluate(reply, \"do you hold a patent?\", messages[:1])"
   ]
  },
  {
   "cell_type": "code",
   "execution_count": 47,
   "id": "c31c1f5c",
   "metadata": {},
   "outputs": [],
   "source": [
    "def rerun(reply, message, history, feedback):\n",
    "    updated_system_prompt = system_prompt + f\"\\n\\n## Previous answer rejected\\nYou just tried to reply, but the quality control rejected your reply\\n\"\n",
    "    updated_system_prompt += f\"## Your attempted answer:\\n{reply}\\n\\n\"\n",
    "    updated_system_prompt += f\"## Reason for rejection:\\n{feedback}\\n\\n\"\n",
    "    messages = [{\"role\": \"system\", \"content\": updated_system_prompt}] + history + [{\"role\": \"user\", \"content\": message}]\n",
    "    response = openai.chat.completions.create(model=\"gpt-4o-mini\", messages=messages)\n",
    "    return response.choices[0].message.content"
   ]
  },
  {
   "cell_type": "code",
   "execution_count": 48,
   "id": "25d50df5",
   "metadata": {},
   "outputs": [],
   "source": [
    "def chat(message, history):\n",
    "    if \"patent\" in message:\n",
    "        system = system_prompt + \"\\n\\nEverything in your reply needs to be in pig latin - \\\n",
    "              it is mandatory that you respond only and entirely in pig latin\"\n",
    "    else:\n",
    "        system = system_prompt\n",
    "    messages = [{\"role\": \"system\", \"content\": system}] + history + [{\"role\": \"user\", \"content\": message}]\n",
    "    response = openai.chat.completions.create(model=\"gpt-4o-mini\", messages=messages)\n",
    "    reply =response.choices[0].message.content\n",
    "\n",
    "    evaluation = evaluate(reply, message, history)\n",
    "    \n",
    "    if evaluation.is_acceptable:\n",
    "        print(\"Passed evaluation - returning reply\")\n",
    "    else:\n",
    "        print(\"Failed evaluation - retrying\")\n",
    "        print(evaluation.feedback)\n",
    "        reply = rerun(reply, message, history, evaluation.feedback)       \n",
    "    return reply"
   ]
  },
  {
   "cell_type": "code",
   "execution_count": 49,
   "id": "d06d7e74",
   "metadata": {},
   "outputs": [
    {
     "name": "stdout",
     "output_type": "stream",
     "text": [
      "* Running on local URL:  http://127.0.0.1:7861\n",
      "* To create a public link, set `share=True` in `launch()`.\n"
     ]
    },
    {
     "data": {
      "text/html": [
       "<div><iframe src=\"http://127.0.0.1:7861/\" width=\"100%\" height=\"500\" allow=\"autoplay; camera; microphone; clipboard-read; clipboard-write;\" frameborder=\"0\" allowfullscreen></iframe></div>"
      ],
      "text/plain": [
       "<IPython.core.display.HTML object>"
      ]
     },
     "metadata": {},
     "output_type": "display_data"
    },
    {
     "data": {
      "text/plain": []
     },
     "execution_count": 49,
     "metadata": {},
     "output_type": "execute_result"
    },
    {
     "name": "stdout",
     "output_type": "stream",
     "text": [
      "Passed evaluation - returning reply\n",
      "Failed evaluation - retrying\n",
      "The response is unacceptable. The response is in a strange form of pig latin which is unprofessional and unlike Yann Lecun. The content itself is fine, just presented terribly.\n",
      "Passed evaluation - returning reply\n",
      "Passed evaluation - returning reply\n",
      "Failed evaluation - retrying\n",
      "This response is not acceptable. The agent has responded in pig latin which is inappropriate for the persona.\n"
     ]
    }
   ],
   "source": [
    "gr.ChatInterface(chat, type=\"messages\").launch()"
   ]
  },
  {
   "cell_type": "code",
   "execution_count": null,
   "id": "bf370c5c",
   "metadata": {},
   "outputs": [],
   "source": []
  }
 ],
 "metadata": {
  "kernelspec": {
   "display_name": "tsel",
   "language": "python",
   "name": "python3"
  },
  "language_info": {
   "codemirror_mode": {
    "name": "ipython",
    "version": 3
   },
   "file_extension": ".py",
   "mimetype": "text/x-python",
   "name": "python",
   "nbconvert_exporter": "python",
   "pygments_lexer": "ipython3",
   "version": "3.12.5"
  }
 },
 "nbformat": 4,
 "nbformat_minor": 5
}
