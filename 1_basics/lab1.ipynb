{
 "cells": [
  {
   "cell_type": "code",
   "execution_count": 3,
   "id": "7fa3844a",
   "metadata": {},
   "outputs": [
    {
     "data": {
      "text/plain": [
       "True"
      ]
     },
     "execution_count": 3,
     "metadata": {},
     "output_type": "execute_result"
    }
   ],
   "source": [
    "from dotenv import load_dotenv\n",
    "\n",
    "# load the API keys into environment variables\n",
    "load_dotenv(override=True)"
   ]
  },
  {
   "cell_type": "code",
   "execution_count": 4,
   "id": "1ccce239",
   "metadata": {},
   "outputs": [
    {
     "name": "stdout",
     "output_type": "stream",
     "text": [
      "OpenAI API Key exists and begins sk-proj-\n"
     ]
    }
   ],
   "source": [
    "# Check the keys\n",
    "\n",
    "import os\n",
    "openai_api_key = os.getenv('OPENAI_API_KEY')\n",
    "\n",
    "if openai_api_key:\n",
    "    print(f\"OpenAI API Key exists and begins {openai_api_key[:8]}\")\n",
    "else:\n",
    "    print(\"OpenAI API Key not set - please head to the troubleshooting guide in the setup folder\")"
   ]
  },
  {
   "cell_type": "code",
   "execution_count": 5,
   "id": "d88bd8cb",
   "metadata": {},
   "outputs": [],
   "source": [
    "from openai import OpenAI\n",
    "openai = OpenAI()"
   ]
  },
  {
   "cell_type": "code",
   "execution_count": 6,
   "id": "ca4c17d0",
   "metadata": {},
   "outputs": [
    {
     "name": "stdout",
     "output_type": "stream",
     "text": [
      "2 + 2 = 4\n"
     ]
    }
   ],
   "source": [
    "# Create a list of messages in the familiar OpenAI format\n",
    "\n",
    "messages = [{\"role\": \"user\", \"content\": \"What is 2+2?\"}]\n",
    "response = openai.chat.completions.create(\n",
    "    model=\"gpt-4.1-nano\",\n",
    "    messages=messages\n",
    ")\n",
    "\n",
    "print(response.choices[0].message.content)\n"
   ]
  },
  {
   "cell_type": "code",
   "execution_count": 7,
   "id": "e7a11a57",
   "metadata": {},
   "outputs": [
    {
     "name": "stdout",
     "output_type": "stream",
     "text": [
      "If it takes 5 machines 5 minutes to make 5 widgets, how long would it take 100 machines to make 100 widgets?\n"
     ]
    }
   ],
   "source": [
    "question = \"Please propose a hard, challenging question to assess someone's IQ. Respond only with the question.\"\n",
    "messages = [{\"role\": \"user\", \"content\": question}]\n",
    "\n",
    "# ask it - this uses GPT 4.1 mini, still cheap but more powerful than nano\n",
    "\n",
    "response = openai.chat.completions.create(\n",
    "    model=\"gpt-4.1-mini\",\n",
    "    messages=messages\n",
    ")\n",
    "\n",
    "question = response.choices[0].message.content\n",
    "\n",
    "print(question)\n"
   ]
  },
  {
   "cell_type": "markdown",
   "id": "c7c8f683",
   "metadata": {},
   "source": [
    "- take this question and make the second call to the LLM to answer the question\n",
    "- this is an Agentic Pattern. it is making multiple call to solve a bigger problem\n"
   ]
  },
  {
   "cell_type": "code",
   "execution_count": 8,
   "id": "cb39f799",
   "metadata": {},
   "outputs": [
    {
     "name": "stdout",
     "output_type": "stream",
     "text": [
      "Let's analyze the problem step-by-step:\n",
      "\n",
      "**Given:**  \n",
      "- 5 machines take 5 minutes to make 5 widgets.\n",
      "\n",
      "**Find:**  \n",
      "- How long will it take 100 machines to make 100 widgets?\n",
      "\n",
      "---\n",
      "\n",
      "### Step 1: Find the rate for one machine\n",
      "\n",
      "Since 5 machines take 5 minutes to make 5 widgets,  \n",
      "- Total widgets made per minute by 5 machines = 5 widgets / 5 minutes = 1 widget per minute (for 5 machines combined).\n",
      "\n",
      "Therefore, for 5 machines:  \n",
      "- Rate = 1 widget per minute  \n",
      "- Rate per machine = 1 widget per minute ÷ 5 machines = 0.2 widgets per minute per machine.\n",
      "\n",
      "---\n",
      "\n",
      "### Step 2: Rate for 100 machines\n",
      "\n",
      "If one machine makes 0.2 widgets per minute, then 100 machines would make:  \n",
      "- 0.2 widgets/minute × 100 machines = 20 widgets per minute.\n",
      "\n",
      "---\n",
      "\n",
      "### Step 3: Calculate the time to make 100 widgets with 100 machines\n",
      "\n",
      "Since 100 machines make 20 widgets per minute, to make 100 widgets, the time required is:  \n",
      "- Time = (Number of widgets) ÷ (Rate) = 100 widgets ÷ 20 widgets per minute = 5 minutes.\n",
      "\n",
      "---\n",
      "\n",
      "### **Answer:**\n",
      "\n",
      "It will take **5 minutes** for 100 machines to make 100 widgets.\n"
     ]
    }
   ],
   "source": [
    "# form a new messages list\n",
    "messages = [{\"role\": \"user\", \"content\": question}]\n",
    "\n",
    "# Ask it again\n",
    "\n",
    "response = openai.chat.completions.create(\n",
    "    model=\"gpt-4.1-mini\",\n",
    "    messages=messages\n",
    ")\n",
    "\n",
    "answer = response.choices[0].message.content\n",
    "print(answer)\n"
   ]
  },
  {
   "cell_type": "code",
   "execution_count": 9,
   "id": "f9fc6f32",
   "metadata": {},
   "outputs": [
    {
     "data": {
      "text/markdown": [
       "Let's analyze the problem step-by-step:\n",
       "\n",
       "**Given:**  \n",
       "- 5 machines take 5 minutes to make 5 widgets.\n",
       "\n",
       "**Find:**  \n",
       "- How long will it take 100 machines to make 100 widgets?\n",
       "\n",
       "---\n",
       "\n",
       "### Step 1: Find the rate for one machine\n",
       "\n",
       "Since 5 machines take 5 minutes to make 5 widgets,  \n",
       "- Total widgets made per minute by 5 machines = 5 widgets / 5 minutes = 1 widget per minute (for 5 machines combined).\n",
       "\n",
       "Therefore, for 5 machines:  \n",
       "- Rate = 1 widget per minute  \n",
       "- Rate per machine = 1 widget per minute ÷ 5 machines = 0.2 widgets per minute per machine.\n",
       "\n",
       "---\n",
       "\n",
       "### Step 2: Rate for 100 machines\n",
       "\n",
       "If one machine makes 0.2 widgets per minute, then 100 machines would make:  \n",
       "- 0.2 widgets/minute × 100 machines = 20 widgets per minute.\n",
       "\n",
       "---\n",
       "\n",
       "### Step 3: Calculate the time to make 100 widgets with 100 machines\n",
       "\n",
       "Since 100 machines make 20 widgets per minute, to make 100 widgets, the time required is:  \n",
       "- Time = (Number of widgets) ÷ (Rate) = 100 widgets ÷ 20 widgets per minute = 5 minutes.\n",
       "\n",
       "---\n",
       "\n",
       "### **Answer:**\n",
       "\n",
       "It will take **5 minutes** for 100 machines to make 100 widgets."
      ],
      "text/plain": [
       "<IPython.core.display.Markdown object>"
      ]
     },
     "metadata": {},
     "output_type": "display_data"
    }
   ],
   "source": [
    "from IPython.display import Markdown, display\n",
    "\n",
    "display(Markdown(answer))"
   ]
  },
  {
   "cell_type": "code",
   "execution_count": null,
   "id": "266be8da",
   "metadata": {},
   "outputs": [],
   "source": []
  }
 ],
 "metadata": {
  "kernelspec": {
   "display_name": "tsel",
   "language": "python",
   "name": "python3"
  },
  "language_info": {
   "codemirror_mode": {
    "name": "ipython",
    "version": 3
   },
   "file_extension": ".py",
   "mimetype": "text/x-python",
   "name": "python",
   "nbconvert_exporter": "python",
   "pygments_lexer": "ipython3",
   "version": "3.12.5"
  }
 },
 "nbformat": 4,
 "nbformat_minor": 5
}
