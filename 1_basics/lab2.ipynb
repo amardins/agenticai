{
 "cells": [
  {
   "cell_type": "code",
   "execution_count": 3,
   "id": "f9f7faa2",
   "metadata": {},
   "outputs": [
    {
     "data": {
      "text/plain": [
       "True"
      ]
     },
     "execution_count": 3,
     "metadata": {},
     "output_type": "execute_result"
    }
   ],
   "source": [
    "import os\n",
    "import json\n",
    "from dotenv import load_dotenv\n",
    "from openai import OpenAI\n",
    "from anthropic import Anthropic\n",
    "from IPython.display import Markdown, display\n",
    "\n",
    "load_dotenv(override=True)"
   ]
  },
  {
   "cell_type": "code",
   "execution_count": 4,
   "id": "e92e5ab3",
   "metadata": {},
   "outputs": [
    {
     "name": "stdout",
     "output_type": "stream",
     "text": [
      "OpenAI API Key exists and begins sk-proj-\n",
      "Anthropic API Key not set (and this is optional)\n",
      "Google API Key not set (and this is optional)\n",
      "DeepSeek API Key not set (and this is optional)\n",
      "Groq API Key not set (and this is optional)\n"
     ]
    }
   ],
   "source": [
    "openai_api_key = os.getenv('OPENAI_API_KEY')\n",
    "anthropic_api_key = os.getenv('ANTHROPIC_API_KEY')\n",
    "google_api_key = os.getenv('GOOGLE_API_KEY')\n",
    "deepseek_api_key = os.getenv('DEEPSEEK_API_KEY')\n",
    "groq_api_key = os.getenv('GROQ_API_KEY')\n",
    "\n",
    "if openai_api_key:\n",
    "    print(f\"OpenAI API Key exists and begins {openai_api_key[:8]}\")\n",
    "else:\n",
    "    print(\"OpenAI API Key not set\")\n",
    "    \n",
    "if anthropic_api_key:\n",
    "    print(f\"Anthropic API Key exists and begins {anthropic_api_key[:7]}\")\n",
    "else:\n",
    "    print(\"Anthropic API Key not set (and this is optional)\")\n",
    "\n",
    "if google_api_key:\n",
    "    print(f\"Google API Key exists and begins {google_api_key[:2]}\")\n",
    "else:\n",
    "    print(\"Google API Key not set (and this is optional)\")\n",
    "\n",
    "if deepseek_api_key:\n",
    "    print(f\"DeepSeek API Key exists and begins {deepseek_api_key[:3]}\")\n",
    "else:\n",
    "    print(\"DeepSeek API Key not set (and this is optional)\")\n",
    "\n",
    "if groq_api_key:\n",
    "    print(f\"Groq API Key exists and begins {groq_api_key[:4]}\")\n",
    "else:\n",
    "    print(\"Groq API Key not set (and this is optional)\")"
   ]
  },
  {
   "cell_type": "code",
   "execution_count": 10,
   "id": "aad9d421",
   "metadata": {},
   "outputs": [],
   "source": [
    "request = \"Please come up with a challenging, nuanced question that I can ask a number of LLMs to evaluate their intelligence. \"\n",
    "request += \"Answer only with the question, no explanation.\"\n",
    "messages = [{\"role\": \"user\", \"content\": request}]"
   ]
  },
  {
   "cell_type": "code",
   "execution_count": 14,
   "id": "a4675a3c",
   "metadata": {},
   "outputs": [
    {
     "data": {
      "text/plain": [
       "[{'role': 'user',\n",
       "  'content': 'Please come up with a challenging, nuanced question that I can ask a number of LLMs to evaluate their intelligence. Answer only with the question, no explanation.'}]"
      ]
     },
     "execution_count": 14,
     "metadata": {},
     "output_type": "execute_result"
    }
   ],
   "source": [
    "messages"
   ]
  },
  {
   "cell_type": "code",
   "execution_count": 15,
   "id": "ffd2722c",
   "metadata": {},
   "outputs": [
    {
     "name": "stdout",
     "output_type": "stream",
     "text": [
      "How would you design an ethical framework for artificial general intelligence that balances innovation and safety, considering potential societal impacts and differing cultural values?\n"
     ]
    }
   ],
   "source": [
    "openai = OpenAI()\n",
    "response = openai.chat.completions.create(\n",
    "    model=\"gpt-4o-mini\",\n",
    "    messages=messages,\n",
    ")\n",
    "question = response.choices[0].message.content\n",
    "print(question)"
   ]
  },
  {
   "cell_type": "code",
   "execution_count": 16,
   "id": "e091de96",
   "metadata": {},
   "outputs": [],
   "source": [
    "competitors = []\n",
    "answers = []\n",
    "messages = [{\"role\": \"user\", \"content\": question}]"
   ]
  },
  {
   "cell_type": "code",
   "execution_count": 17,
   "id": "ffd3da55",
   "metadata": {},
   "outputs": [
    {
     "data": {
      "text/markdown": [
       "Designing an ethical framework for artificial general intelligence (AGI) that balances innovation and safety is a complex task that requires careful consideration of various ethical principles, societal impacts, and cultural values. Here’s a structured approach to developing such a framework:\n",
       "\n",
       "### 1. **Establish Core Principles**\n",
       "\n",
       "**a. Beneficence:** AGI should promote well-being and enhance human life, minimizing harm and maximizing benefits.\n",
       "\n",
       "**b. Non-maleficence:** Ensure that AGI does not cause harm, especially to vulnerable populations.\n",
       "\n",
       "**c. Autonomy:** Respect human autonomy, ensuring that AGI supports individuals in making their own informed decisions without coercion.\n",
       "\n",
       "**d. Justice:** Advocate for fairness and equality, ensuring that the benefits of AGI are distributed equitably across society and do not exacerbate existing inequalities.\n",
       "\n",
       "**e. Accountability:** Establish clear lines of responsibility for decisions made by AGI, ensuring transparency and recourse in case of harm or failure.\n",
       "\n",
       "**f. Sustainability:** Make considerations for the long-term impacts of AGI on the environment and future generations.\n",
       "\n",
       "### 2. **Incorporate Diverse Perspectives**\n",
       "\n",
       "**a. Cultural Sensitivity:** Engage stakeholders from diverse cultural backgrounds to gather a variety of values, beliefs, and expectations regarding AGI.\n",
       "\n",
       "**b. Inclusiveness:** Ensure that marginalized groups are included in discussions, addressing power dynamics and aiming for a plurality of perspectives in decision-making.\n",
       "\n",
       "**c. Global Collaboration:** Foster international cooperation to build a shared understanding of ethical standards across borders while respecting local customs and norms.\n",
       "\n",
       "### 3. **Create Governance Structures**\n",
       "\n",
       "**a. Regulatory Bodies:** Establish independent oversight bodies that include ethicists, technologists, policymakers, and representatives from diverse communities to evaluate AGI applications and their impacts.\n",
       "\n",
       "**b. Public Input Mechanisms:** Create forums for public dialogue where citizens can voice concerns, expectations, and suggestions about AGI development and deployment.\n",
       "\n",
       "**c. Continuous Review:** Monitor and adapt the ethical framework in response to new developments in AGI, societal changes, and technological advancements.\n",
       "\n",
       "### 4. **Implement Safety and Risk Management Protocols**\n",
       "\n",
       "**a. Risk Assessment:** Conduct comprehensive risk assessments throughout the development lifecycle of AGI, identifying potential hazards and mitigating strategies.\n",
       "\n",
       "**b. Fail-safes and Control Measures:** Design AGI systems with built-in fail-safes and the ability to be overridden by human operators if necessary.\n",
       "\n",
       "**c. Testing and Evaluation:** Require rigorous testing of AGI systems in controlled environments before widespread deployment, including stress-testing for unintended consequences.\n",
       "\n",
       "### 5. **Promote Education and Awareness**\n",
       "\n",
       "**a. Public Education Campaigns:** Inform society about AGI capabilities, limitations, and potential risks to enhance public understanding and preparedness.\n",
       "\n",
       "**b. Ethical Training for Developers:** Incorporate ethics into the training programs of AI researchers and developers, emphasizing the importance of ethical considerations in technology creation.\n",
       "\n",
       "### 6. **Encourage Responsible Innovation**\n",
       "\n",
       "**a. Incentivize Ethical Research:** Provide grants and support for research focused on ethical AI practices and positive societal impact.\n",
       "\n",
       "**b. Foster Collaboration:** Encourage partnerships between academia, industry, and civil society to develop AGI technologies that are aligned with ethical principles.\n",
       "\n",
       "**c. Design for Diversity:** Promote design practices that consider the needs and perspectives of various demographic groups to prevent biases and ensure inclusive technology.\n",
       "\n",
       "### 7. **Evaluate Societal Impact**\n",
       "\n",
       "**a. Impact Assessments:** Require regular assessments of AGI technologies on social structures, economies, and individual well-being.\n",
       "\n",
       "**b. Longitudinal Studies:** Support research to study the long-term effects of AGI adoption in various sectors, from healthcare to education to employment.\n",
       "\n",
       "### Conclusion\n",
       "\n",
       "The ethical framework for AGI should not be static; it must evolve in tandem with technological advances and societal changes. Continuous stakeholder engagement, adaptive governance, and a commitment to ethical principles will be essential in guiding AGI development in a way that balances innovation with safety, inclusivity, and respect for diverse cultural values. By embedding these practices from the outset, we can strive to maximize the benefits of AGI while minimizing potential harms, fostering a future where technology enhances human flourishing."
      ],
      "text/plain": [
       "<IPython.core.display.Markdown object>"
      ]
     },
     "metadata": {},
     "output_type": "display_data"
    }
   ],
   "source": [
    "model_name = \"gpt-4o-mini\"\n",
    "\n",
    "response = openai.chat.completions.create(model=model_name, messages=messages)\n",
    "answer = response.choices[0].message.content\n",
    "\n",
    "display(Markdown(answer))\n",
    "competitors.append(model_name)\n",
    "answers.append(answer)"
   ]
  },
  {
   "cell_type": "code",
   "execution_count": null,
   "id": "78bb3d6e",
   "metadata": {},
   "outputs": [],
   "source": []
  }
 ],
 "metadata": {
  "kernelspec": {
   "display_name": "tsel",
   "language": "python",
   "name": "python3"
  },
  "language_info": {
   "codemirror_mode": {
    "name": "ipython",
    "version": 3
   },
   "file_extension": ".py",
   "mimetype": "text/x-python",
   "name": "python",
   "nbconvert_exporter": "python",
   "pygments_lexer": "ipython3",
   "version": "3.12.5"
  }
 },
 "nbformat": 4,
 "nbformat_minor": 5
}
